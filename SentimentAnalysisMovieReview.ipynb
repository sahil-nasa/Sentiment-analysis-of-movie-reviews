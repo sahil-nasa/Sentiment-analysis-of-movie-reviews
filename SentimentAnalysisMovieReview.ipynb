{
  "cells": [
    {
      "cell_type": "code",
      "execution_count": null,
      "metadata": {
        "id": "aHeKe_utdiTz"
      },
      "outputs": [],
      "source": [
        "import nltk"
      ]
    },
    {
      "cell_type": "code",
      "execution_count": null,
      "metadata": {
        "id": "G1ysi2KWd6PX"
      },
      "outputs": [],
      "source": [
        "import random\n",
        "from collections import OrderedDict"
      ]
    },
    {
      "cell_type": "code",
      "execution_count": null,
      "metadata": {
        "id": "LXmMu_tPeJsM"
      },
      "outputs": [],
      "source": [
        "import pandas as pd\n",
        "import numpy as np\n",
        "import matplotlib.pyplot as plt"
      ]
    },
    {
      "cell_type": "code",
      "execution_count": null,
      "metadata": {
        "id": "dAV2G1RWeLSb"
      },
      "outputs": [],
      "source": [
        "from nltk.corpus import twitter_samples\n",
        "from nltk.corpus import movie_reviews"
      ]
    },
    {
      "cell_type": "code",
      "execution_count": null,
      "metadata": {
        "id": "ouCWw-G8eM7o"
      },
      "outputs": [],
      "source": [
        "import re\n",
        "import string\n",
        "\n",
        "from nltk.corpus import stopwords\n",
        "from nltk.stem import PorterStemmer\n",
        "from nltk.tokenize import TweetTokenizer"
      ]
    },
    {
      "cell_type": "code",
      "execution_count": null,
      "metadata": {
        "id": "-lmAevLLqrcB"
      },
      "outputs": [],
      "source": [
        "import seaborn as sns\n",
        "import math\n",
        "import csv"
      ]
    },
    {
      "cell_type": "code",
      "execution_count": null,
      "metadata": {
        "colab": {
          "base_uri": "https://localhost:8080/"
        },
        "id": "h0vW4O73eQ2m",
        "outputId": "e1c4373e-736a-40f8-fcbb-1242f771ccd9"
      },
      "outputs": [
        {
          "name": "stdout",
          "output_type": "stream",
          "text": [
            "[nltk_data] Downloading package stopwords to /root/nltk_data...\n",
            "[nltk_data]   Unzipping corpora/stopwords.zip.\n"
          ]
        },
        {
          "data": {
            "text/plain": [
              "True"
            ]
          },
          "execution_count": 7,
          "metadata": {},
          "output_type": "execute_result"
        }
      ],
      "source": [
        "nltk.download('stopwords')"
      ]
    },
    {
      "cell_type": "code",
      "execution_count": null,
      "metadata": {
        "id": "5OxsiyKmfN8K"
      },
      "outputs": [],
      "source": [
        "stopWords = stopwords.words()"
      ]
    },
    {
      "cell_type": "code",
      "execution_count": null,
      "metadata": {
        "id": "54DUIWGQfDu9"
      },
      "outputs": [],
      "source": [
        "stopWords = stopWords[1315:]    #reducing stopWords"
      ]
    },
    {
      "cell_type": "code",
      "execution_count": null,
      "metadata": {
        "id": "nv4NIUtrfIai"
      },
      "outputs": [],
      "source": [
        "stopWords.append(':)')\n",
        "stopWords.append(':(')\n",
        "stopWords.append(')')\n",
        "stopWords.append('(')\n",
        "stopWords.append(',')"
      ]
    },
    {
      "cell_type": "code",
      "execution_count": null,
      "metadata": {
        "colab": {
          "base_uri": "https://localhost:8080/"
        },
        "id": "hLpTPuy6fXZP",
        "outputId": "fdd61909-eac9-416a-db16-067aefbe1c9e"
      },
      "outputs": [
        {
          "name": "stdout",
          "output_type": "stream",
          "text": [
            "[nltk_data] Downloading package movie_reviews to /root/nltk_data...\n",
            "[nltk_data]   Unzipping corpora/movie_reviews.zip.\n"
          ]
        },
        {
          "data": {
            "text/plain": [
              "True"
            ]
          },
          "execution_count": 11,
          "metadata": {},
          "output_type": "execute_result"
        }
      ],
      "source": [
        "nltk.download('movie_reviews')"
      ]
    },
    {
      "cell_type": "code",
      "execution_count": null,
      "metadata": {
        "id": "IAM_-HV4fauG"
      },
      "outputs": [],
      "source": [
        "mvData = movie_reviews.words()"
      ]
    },
    {
      "cell_type": "code",
      "execution_count": null,
      "metadata": {
        "colab": {
          "base_uri": "https://localhost:8080/"
        },
        "id": "sX5elCMWfdck",
        "outputId": "b77dbc6a-faa5-459c-d050-9ac7635f8365"
      },
      "outputs": [
        {
          "data": {
            "text/plain": [
              "1583820"
            ]
          },
          "execution_count": 13,
          "metadata": {},
          "output_type": "execute_result"
        }
      ],
      "source": [
        "len(mvData)"
      ]
    },
    {
      "cell_type": "code",
      "execution_count": null,
      "metadata": {
        "id": "hHdpSnD2gPH5"
      },
      "outputs": [],
      "source": [
        "mvData = [(movie_reviews.words(file_id), category) for file_id in movie_reviews.fileids() for category in movie_reviews.categories(file_id)]"
      ]
    },
    {
      "cell_type": "code",
      "execution_count": null,
      "metadata": {
        "colab": {
          "base_uri": "https://localhost:8080/"
        },
        "id": "WaqmkDQLgRv1",
        "outputId": "b2ea47bf-ee20-44a0-9cb9-cded23975e1f"
      },
      "outputs": [
        {
          "name": "stdout",
          "output_type": "stream",
          "text": [
            "<class 'list'>\n",
            "2000\n"
          ]
        }
      ],
      "source": [
        "print(type(mvData))\n",
        "print(len(mvData))"
      ]
    },
    {
      "cell_type": "code",
      "execution_count": null,
      "metadata": {
        "id": "t83fWnq-gTiX"
      },
      "outputs": [],
      "source": [
        "n = 0\n",
        "p = 0\n",
        "for i in range(len(mvData)):\n",
        "  if(mvData[i][1] == 'neg'):\n",
        "    n = n+1\n",
        "  else:\n",
        "    p = p+1"
      ]
    },
    {
      "cell_type": "code",
      "execution_count": null,
      "metadata": {
        "colab": {
          "base_uri": "https://localhost:8080/"
        },
        "id": "fQ5e2y68gWQJ",
        "outputId": "d0b4960e-fcef-4759-f4a0-7c4f6e291df5"
      },
      "outputs": [
        {
          "name": "stdout",
          "output_type": "stream",
          "text": [
            "negative reviews are  1000\n",
            "positive reviews are  1000\n"
          ]
        }
      ],
      "source": [
        "print(\"negative reviews are \", n)\n",
        "print(\"positive reviews are \", p)"
      ]
    },
    {
      "cell_type": "code",
      "execution_count": null,
      "metadata": {
        "id": "nQ2w4mnugYSn"
      },
      "outputs": [],
      "source": [
        "MovieData = list()"
      ]
    },
    {
      "cell_type": "code",
      "execution_count": null,
      "metadata": {
        "id": "vhcoQz3WgeCH"
      },
      "outputs": [],
      "source": [
        "for i in range(len(mvData)):\n",
        "  MovieData.append(mvData[i][0])"
      ]
    },
    {
      "cell_type": "code",
      "execution_count": null,
      "metadata": {
        "colab": {
          "base_uri": "https://localhost:8080/"
        },
        "id": "7nfIi8Y4gfrQ",
        "outputId": "ba5b7c6d-7fc2-4236-a4d1-fadbd71c7f29"
      },
      "outputs": [
        {
          "data": {
            "text/plain": [
              "['plot', ':', 'two', 'teen', 'couples', 'go', 'to', ...]"
            ]
          },
          "execution_count": 20,
          "metadata": {},
          "output_type": "execute_result"
        }
      ],
      "source": [
        "MovieData[0]"
      ]
    },
    {
      "cell_type": "code",
      "execution_count": null,
      "metadata": {
        "id": "NSipeddngftn"
      },
      "outputs": [],
      "source": [
        "all_positive_reviews_tokens = list()\n",
        "all_negative_reviews_tokens = list()"
      ]
    },
    {
      "cell_type": "code",
      "execution_count": null,
      "metadata": {
        "id": "XwS1ERGqgfvy"
      },
      "outputs": [],
      "source": [
        "for i in range(len(mvData)):\n",
        "  if(mvData[i][1] == 'pos'):\n",
        "    all_positive_reviews_tokens.append(mvData[i][0])\n",
        "  else:\n",
        "    all_negative_reviews_tokens.append(mvData[i][0])"
      ]
    },
    {
      "cell_type": "code",
      "execution_count": null,
      "metadata": {
        "id": "dAMUDPiogfyx"
      },
      "outputs": [],
      "source": [
        "all_positive_reviews = list()\n",
        "all_negative_reviews = list()"
      ]
    },
    {
      "cell_type": "code",
      "execution_count": null,
      "metadata": {
        "id": "Lyp8jfS9gqCZ"
      },
      "outputs": [],
      "source": [
        "for i in range(len(all_positive_reviews_tokens)):\n",
        "  rev = all_positive_reviews_tokens[i]\n",
        "  s = \"\"\n",
        "\n",
        "  for word in rev:\n",
        "    s = s + word\n",
        "    s = s + ' '\n",
        "\n",
        "  all_positive_reviews.append(s)"
      ]
    },
    {
      "cell_type": "code",
      "execution_count": null,
      "metadata": {
        "id": "o2256rP6gsIf"
      },
      "outputs": [],
      "source": [
        "for i in range(len(all_negative_reviews_tokens)):\n",
        "  rev = all_negative_reviews_tokens[i]\n",
        "  s = \"\"\n",
        "\n",
        "  for word in rev:\n",
        "    s = s + word\n",
        "    s = s + ' '\n",
        "\n",
        "  all_negative_reviews.append(s)"
      ]
    },
    {
      "cell_type": "code",
      "execution_count": null,
      "metadata": {
        "colab": {
          "base_uri": "https://localhost:8080/"
        },
        "id": "uIEYFf7mguaR",
        "outputId": "b8d4ba60-b984-46c2-e65e-f3d819a44d6e"
      },
      "outputs": [
        {
          "name": "stdout",
          "output_type": "stream",
          "text": [
            "1000\n",
            "1000\n"
          ]
        }
      ],
      "source": [
        "print(len(all_positive_reviews))\n",
        "print(len(all_negative_reviews))"
      ]
    },
    {
      "cell_type": "code",
      "execution_count": null,
      "metadata": {
        "colab": {
          "base_uri": "https://localhost:8080/"
        },
        "id": "PM7x0I9_gwUi",
        "outputId": "74958cd9-3596-4f3c-b552-1323c9789f57"
      },
      "outputs": [
        {
          "name": "stdout",
          "output_type": "stream",
          "text": [
            "films adapted from comic books have had plenty of success , whether they ' re about superheroes ( batman , superman , spawn ) , or geared toward kids ( casper ) or the arthouse crowd ( ghost world ) , but there ' s never really been a comic book like from hell before . for starters , it was created by alan moore ( and eddie campbell ) , who brought the medium to a whole new level in the mid ' 80s with a 12 - part series called the watchmen . to say moore and campbell thoroughly researched the subject of jack the ripper would be like saying michael jackson is starting to look a little odd . the book ( or \" graphic novel , \" if you will ) is over 500 pages long and includes nearly 30 more that consist of nothing but footnotes . in other words , don ' t dismiss this film because of its source . if you can get past the whole comic book thing , you might find another stumbling block in from hell ' s directors , albert and allen hughes . getting the hughes brothers to direct this seems almost as ludicrous as casting carrot top in , well , anything , but riddle me this : who better to direct a film that ' s set in the ghetto and features really violent street crime than the mad geniuses behind menace ii society ? the ghetto in question is , of course , whitechapel in 1888 london ' s east end . it ' s a filthy , sooty place where the whores ( called \" unfortunates \" ) are starting to get a little nervous about this mysterious psychopath who has been carving through their profession with surgical precision . when the first stiff turns up , copper peter godley ( robbie coltrane , the world is not enough ) calls in inspector frederick abberline ( johnny depp , blow ) to crack the case . abberline , a widower , has prophetic dreams he unsuccessfully tries to quell with copious amounts of absinthe and opium . upon arriving in whitechapel , he befriends an unfortunate named mary kelly ( heather graham , say it isn ' t so ) and proceeds to investigate the horribly gruesome crimes that even the police surgeon can ' t stomach . i don ' t think anyone needs to be briefed on jack the ripper , so i won ' t go into the particulars here , other than to say moore and campbell have a unique and interesting theory about both the identity of the killer and the reasons he chooses to slay . in the comic , they don ' t bother cloaking the identity of the ripper , but screenwriters terry hayes ( vertical limit ) and rafael yglesias ( les mis ? rables ) do a good job of keeping him hidden from viewers until the very end . it ' s funny to watch the locals blindly point the finger of blame at jews and indians because , after all , an englishman could never be capable of committing such ghastly acts . and from hell ' s ending had me whistling the stonecutters song from the simpsons for days ( \" who holds back the electric car / who made steve guttenberg a star ? \" ) . don ' t worry - it ' ll all make sense when you see it . now onto from hell ' s appearance : it ' s certainly dark and bleak enough , and it ' s surprising to see how much more it looks like a tim burton film than planet of the apes did ( at times , it seems like sleepy hollow 2 ) . the print i saw wasn ' t completely finished ( both color and music had not been finalized , so no comments about marilyn manson ) , but cinematographer peter deming ( don ' t say a word ) ably captures the dreariness of victorian - era london and helped make the flashy killing scenes remind me of the crazy flashbacks in twin peaks , even though the violence in the film pales in comparison to that in the black - and - white comic . oscar winner martin childs ' ( shakespeare in love ) production design turns the original prague surroundings into one creepy place . even the acting in from hell is solid , with the dreamy depp turning in a typically strong performance and deftly handling a british accent . ians holm ( joe gould ' s secret ) and richardson ( 102 dalmatians ) log in great supporting roles , but the big surprise here is graham . i cringed the first time she opened her mouth , imagining her attempt at an irish accent , but it actually wasn ' t half bad . the film , however , is all good . 2 : 00 - r for strong violence / gore , sexuality , language and drug content \n",
            "4262\n"
          ]
        }
      ],
      "source": [
        "print(all_positive_reviews[0])\n",
        "print(len(all_positive_reviews[0]))"
      ]
    },
    {
      "cell_type": "code",
      "execution_count": null,
      "metadata": {
        "id": "749c8KqMryVv"
      },
      "outputs": [],
      "source": [
        "fields = ['label', 'review']\n",
        "alltweets = all_positive_reviews + all_negative_reviews"
      ]
    },
    {
      "cell_type": "code",
      "execution_count": null,
      "metadata": {
        "id": "GVwot7QsryYe"
      },
      "outputs": [],
      "source": [
        "reviews = []"
      ]
    },
    {
      "cell_type": "code",
      "execution_count": null,
      "metadata": {
        "id": "RW7EDgYUrybQ"
      },
      "outputs": [],
      "source": [
        "for i in range(len(all_positive_reviews)):\n",
        "  tup = []\n",
        "  tup.append(1.0)\n",
        "  tup.append(alltweets[i])\n",
        "  reviews.append(tup)"
      ]
    },
    {
      "cell_type": "code",
      "execution_count": null,
      "metadata": {
        "id": "C_dP-W6iryeG"
      },
      "outputs": [],
      "source": [
        "for i in range(len(all_negative_reviews)):\n",
        "  tup = []\n",
        "  tup.append(0.0)\n",
        "  tup.append(alltweets[len(all_positive_reviews) + i])\n",
        "  reviews.append(tup)"
      ]
    },
    {
      "cell_type": "code",
      "execution_count": null,
      "metadata": {
        "colab": {
          "base_uri": "https://localhost:8080/"
        },
        "id": "LwKuiWvyrygl",
        "outputId": "964a46b2-8722-4aae-d979-9636f2e155cf"
      },
      "outputs": [
        {
          "data": {
            "text/plain": [
              "[1.0,\n",
              " 'towards the middle of \" the sweet hereafter , \" a crowded school bus skids on an icy road surface as it rounds a bend , careens through the steel guard rail , and disappears out of sight . then , in long shot , we see the vehicle slowly sliding across what looks like a snow - covered field . it pauses for a moment before the \" field \" cracks under the bus \\' weight and the bright yellow vehicle vanishes in an effortless moment , a single smooth second of time . compare that scene , if you will , to the last eighty minutes of \" titanic , \" when the behemoth sinks slowly and spectacularly to its watery demise , and you \\' ll appreciate the futility of comparing greatness in films . the scene in \" the sweet hereafter \" epitomizes all that \\' s right with independent canadian director atom egoyan \\' s film . it \\' s not sensational . we don \\' t see the inside of the bus with its payload of screaming , terrified children being bloodied and battered about . the bus doesn \\' t explode or break into a thousand tiny pieces . it simply leaves the road and silently slips beneath the surface of a frozen lake . it \\' s a horrifying sequence made all the more so by calm and distance . using a non - linear approach to his narrative , egoyan shifts back and forward in time , connecting us with the inhabitants of the small british columbian town who have been severely affected by this tragedy . fourteen children died in the accident , leaving their parents and the town itself paralyzed with grief . the catalyst at the center of the film is ambulance chaser mitchell stephens ( a wonderfully moving performance by ian holm ) , who comes to sam dent to persuade the townsfolk to engage in a class action suit . stephens , who \" doesn \\' t believe in accidents , \" functions as a concerned , involved observer , scribbling details in his notebook and providing the parents with an opportunity to reach some kind of closure in the harrowing aftermath . while stephens \\' initial drive may be financial ( one third of the total settlement if he wins ) , his involvement provides him more with an outlet to come to grips with his own loss . his self - destructive , drug - addicted daughter has been in and out of clinics , halfway houses and detox units for years . egoyan \\' s attention to detail and ability to establish mood are so impeccable that even the sound of a kettle boiling resonates like a plaintive cry . mychael danna , who composed the shimmering music for \" the ice storm , \" contributes another memorable score that shivers and tingles . equally impressive is paul sarossy \\' s cinematography , capturing the imposing canadian mountainsides and low - hanging fogs as splendidly as his shadowy interiors -- in one scene a bright wall calendar serves to illuminate portions of a room . \" the sweet hereafter , \" while undeniably grim , urges the viewer to grab onto life with both hands and not let go . it \\' s a film of generous subtlety and emotion . ']"
            ]
          },
          "execution_count": 32,
          "metadata": {},
          "output_type": "execute_result"
        }
      ],
      "source": [
        "reviews[499]"
      ]
    },
    {
      "cell_type": "code",
      "execution_count": null,
      "metadata": {
        "id": "t3KUKvNssn-x"
      },
      "outputs": [],
      "source": [
        "df = pd.DataFrame(reviews, columns=fields)"
      ]
    },
    {
      "cell_type": "code",
      "execution_count": null,
      "metadata": {
        "colab": {
          "base_uri": "https://localhost:8080/",
          "height": 297
        },
        "id": "UTh3LB-asoBQ",
        "outputId": "1caba1d1-c9a6-4243-ea9c-f2bbd3492270"
      },
      "outputs": [
        {
          "data": {
            "text/plain": [
              "<matplotlib.axes._subplots.AxesSubplot at 0x7f8730bfbc90>"
            ]
          },
          "execution_count": 34,
          "metadata": {},
          "output_type": "execute_result"
        },
        {
          "data": {
            "image/png": "[encoded data removed]",
            "text/plain": [
              "<Figure size 432x288 with 1 Axes>"
            ]
          },
          "metadata": {},
          "output_type": "display_data"
        }
      ],
      "source": [
        "sns.countplot(x='label',data =df, palette='PRGn')"
      ]
    },
    {
      "cell_type": "code",
      "execution_count": null,
      "metadata": {
        "id": "ARsJD_kCg398"
      },
      "outputs": [],
      "source": [
        "#dividing into train and test\n",
        "\n",
        "train_p_mv = all_positive_reviews[:800]\n",
        "test_p_mv = all_positive_reviews[800:]\n",
        "\n",
        "train_n_mv = all_negative_reviews[:800]\n",
        "test_n_mv = all_negative_reviews[800:]\n",
        "\n",
        "train_x = train_p_mv + train_n_mv\n",
        "test_x = test_p_mv + test_n_mv"
      ]
    },
    {
      "cell_type": "code",
      "execution_count": null,
      "metadata": {
        "id": "18qEpCrkg7Vo"
      },
      "outputs": [],
      "source": [
        "train_y = np.append(np.ones(len(train_p_mv)), np.zeros(len(train_n_mv)))\n",
        "test_y = np.append(np.ones(len(test_p_mv)), np.zeros(len(test_n_mv)))"
      ]
    },
    {
      "cell_type": "code",
      "execution_count": null,
      "metadata": {
        "colab": {
          "base_uri": "https://localhost:8080/"
        },
        "id": "6GmaJle2g9Od",
        "outputId": "8c7b92b4-130a-417f-d4ea-d059c84a03a2"
      },
      "outputs": [
        {
          "name": "stdout",
          "output_type": "stream",
          "text": [
            "1600\n",
            "400\n"
          ]
        }
      ],
      "source": [
        "print(len(train_y))\n",
        "print(len(test_y))"
      ]
    },
    {
      "cell_type": "code",
      "execution_count": null,
      "metadata": {
        "id": "J__AMWi-g-5g"
      },
      "outputs": [],
      "source": [
        "def removeClutter(old_review):\n",
        "\n",
        "  new_review = re.sub(r'@[A-Za-z0-9]+', '', old_review)   #clearing the @ symbols\n",
        "\n",
        "  new_review = re.sub(r'^RT[\\s]+','', new_review)    #clearing RT tags\n",
        "\n",
        "  new_review = re.sub(r'https?:\\/\\/.*[\\r\\n]*','',new_review)   #removing hyperlinks\n",
        "\n",
        "  new_review = re.sub(r'#', '',new_review)    #clearing the # symbols as well\n",
        "\n",
        "  return new_review"
      ]
    },
    {
      "cell_type": "code",
      "execution_count": null,
      "metadata": {
        "colab": {
          "base_uri": "https://localhost:8080/",
          "height": 126
        },
        "id": "d_PV9R60hHau",
        "outputId": "c15fa2e0-cf9f-4f40-904e-c437d8b1eac1"
      },
      "outputs": [
        {
          "data": {
            "application/vnd.google.colaboratory.intrinsic+json": {
              "type": "string"
            },
            "text/plain": [
              "'films adapted from comic books have had plenty of success , whether they \\' re about superheroes ( batman , superman , spawn ) , or geared toward kids ( casper ) or the arthouse crowd ( ghost world ) , but there \\' s never really been a comic book like from hell before . for starters , it was created by alan moore ( and eddie campbell ) , who brought the medium to a whole new level in the mid \\' 80s with a 12 - part series called the watchmen . to say moore and campbell thoroughly researched the subject of jack the ripper would be like saying michael jackson is starting to look a little odd . the book ( or \" graphic novel , \" if you will ) is over 500 pages long and includes nearly 30 more that consist of nothing but footnotes . in other words , don \\' t dismiss this film because of its source . if you can get past the whole comic book thing , you might find another stumbling block in from hell \\' s directors , albert and allen hughes . getting the hughes brothers to direct this seems almost as ludicrous as casting carrot top in , well , anything , but riddle me this : who better to direct a film that \\' s set in the ghetto and features really violent street crime than the mad geniuses behind menace ii society ? the ghetto in question is , of course , whitechapel in 1888 london \\' s east end . it \\' s a filthy , sooty place where the whores ( called \" unfortunates \" ) are starting to get a little nervous about this mysterious psychopath who has been carving through their profession with surgical precision . when the first stiff turns up , copper peter godley ( robbie coltrane , the world is not enough ) calls in inspector frederick abberline ( johnny depp , blow ) to crack the case . abberline , a widower , has prophetic dreams he unsuccessfully tries to quell with copious amounts of absinthe and opium . upon arriving in whitechapel , he befriends an unfortunate named mary kelly ( heather graham , say it isn \\' t so ) and proceeds to investigate the horribly gruesome crimes that even the police surgeon can \\' t stomach . i don \\' t think anyone needs to be briefed on jack the ripper , so i won \\' t go into the particulars here , other than to say moore and campbell have a unique and interesting theory about both the identity of the killer and the reasons he chooses to slay . in the comic , they don \\' t bother cloaking the identity of the ripper , but screenwriters terry hayes ( vertical limit ) and rafael yglesias ( les mis ? rables ) do a good job of keeping him hidden from viewers until the very end . it \\' s funny to watch the locals blindly point the finger of blame at jews and indians because , after all , an englishman could never be capable of committing such ghastly acts . and from hell \\' s ending had me whistling the stonecutters song from the simpsons for days ( \" who holds back the electric car / who made steve guttenberg a star ? \" ) . don \\' t worry - it \\' ll all make sense when you see it . now onto from hell \\' s appearance : it \\' s certainly dark and bleak enough , and it \\' s surprising to see how much more it looks like a tim burton film than planet of the apes did ( at times , it seems like sleepy hollow 2 ) . the print i saw wasn \\' t completely finished ( both color and music had not been finalized , so no comments about marilyn manson ) , but cinematographer peter deming ( don \\' t say a word ) ably captures the dreariness of victorian - era london and helped make the flashy killing scenes remind me of the crazy flashbacks in twin peaks , even though the violence in the film pales in comparison to that in the black - and - white comic . oscar winner martin childs \\' ( shakespeare in love ) production design turns the original prague surroundings into one creepy place . even the acting in from hell is solid , with the dreamy depp turning in a typically strong performance and deftly handling a british accent . ians holm ( joe gould \\' s secret ) and richardson ( 102 dalmatians ) log in great supporting roles , but the big surprise here is graham . i cringed the first time she opened her mouth , imagining her attempt at an irish accent , but it actually wasn \\' t half bad . the film , however , is all good . 2 : 00 - r for strong violence / gore , sexuality , language and drug content '"
            ]
          },
          "execution_count": 39,
          "metadata": {},
          "output_type": "execute_result"
        }
      ],
      "source": [
        "temp_tweet = removeClutter(all_positive_reviews[0])\n",
        "temp_tweet #testing remove clutter  function"
      ]
    },
    {
      "cell_type": "code",
      "execution_count": null,
      "metadata": {
        "id": "afr5El-1hc3R"
      },
      "outputs": [],
      "source": [
        "def tokenizer(tweet):\n",
        "  tokens = tweet.split(\" \")\n",
        "  return tokens"
      ]
    },
    {
      "cell_type": "code",
      "execution_count": null,
      "metadata": {
        "colab": {
          "base_uri": "https://localhost:8080/"
        },
        "id": "V0mXMCPihlKn",
        "outputId": "7b898014-d80b-4de4-a907-3862d977107b"
      },
      "outputs": [
        {
          "name": "stdout",
          "output_type": "stream",
          "text": [
            "['films', 'adapted', 'from', 'comic', 'books', 'have', 'had', 'plenty', 'of', 'success', ',', 'whether', 'they', \"'\", 're', 'about', 'superheroes', '(', 'batman', ',', 'superman', ',', 'spawn', ')', ',', 'or', 'geared', 'toward', 'kids', '(', 'casper', ')', 'or', 'the', 'arthouse', 'crowd', '(', 'ghost', 'world', ')', ',', 'but', 'there', \"'\", 's', 'never', 'really', 'been', 'a', 'comic', 'book', 'like', 'from', 'hell', 'before', '.', 'for', 'starters', ',', 'it', 'was', 'created', 'by', 'alan', 'moore', '(', 'and', 'eddie', 'campbell', ')', ',', 'who', 'brought', 'the', 'medium', 'to', 'a', 'whole', 'new', 'level', 'in', 'the', 'mid', \"'\", '80s', 'with', 'a', '12', '-', 'part', 'series', 'called', 'the', 'watchmen', '.', 'to', 'say', 'moore', 'and', 'campbell', 'thoroughly', 'researched', 'the', 'subject', 'of', 'jack', 'the', 'ripper', 'would', 'be', 'like', 'saying', 'michael', 'jackson', 'is', 'starting', 'to', 'look', 'a', 'little', 'odd', '.', 'the', 'book', '(', 'or', '\"', 'graphic', 'novel', ',', '\"', 'if', 'you', 'will', ')', 'is', 'over', '500', 'pages', 'long', 'and', 'includes', 'nearly', '30', 'more', 'that', 'consist', 'of', 'nothing', 'but', 'footnotes', '.', 'in', 'other', 'words', ',', 'don', \"'\", 't', 'dismiss', 'this', 'film', 'because', 'of', 'its', 'source', '.', 'if', 'you', 'can', 'get', 'past', 'the', 'whole', 'comic', 'book', 'thing', ',', 'you', 'might', 'find', 'another', 'stumbling', 'block', 'in', 'from', 'hell', \"'\", 's', 'directors', ',', 'albert', 'and', 'allen', 'hughes', '.', 'getting', 'the', 'hughes', 'brothers', 'to', 'direct', 'this', 'seems', 'almost', 'as', 'ludicrous', 'as', 'casting', 'carrot', 'top', 'in', ',', 'well', ',', 'anything', ',', 'but', 'riddle', 'me', 'this', ':', 'who', 'better', 'to', 'direct', 'a', 'film', 'that', \"'\", 's', 'set', 'in', 'the', 'ghetto', 'and', 'features', 'really', 'violent', 'street', 'crime', 'than', 'the', 'mad', 'geniuses', 'behind', 'menace', 'ii', 'society', '?', 'the', 'ghetto', 'in', 'question', 'is', ',', 'of', 'course', ',', 'whitechapel', 'in', '1888', 'london', \"'\", 's', 'east', 'end', '.', 'it', \"'\", 's', 'a', 'filthy', ',', 'sooty', 'place', 'where', 'the', 'whores', '(', 'called', '\"', 'unfortunates', '\"', ')', 'are', 'starting', 'to', 'get', 'a', 'little', 'nervous', 'about', 'this', 'mysterious', 'psychopath', 'who', 'has', 'been', 'carving', 'through', 'their', 'profession', 'with', 'surgical', 'precision', '.', 'when', 'the', 'first', 'stiff', 'turns', 'up', ',', 'copper', 'peter', 'godley', '(', 'robbie', 'coltrane', ',', 'the', 'world', 'is', 'not', 'enough', ')', 'calls', 'in', 'inspector', 'frederick', 'abberline', '(', 'johnny', 'depp', ',', 'blow', ')', 'to', 'crack', 'the', 'case', '.', 'abberline', ',', 'a', 'widower', ',', 'has', 'prophetic', 'dreams', 'he', 'unsuccessfully', 'tries', 'to', 'quell', 'with', 'copious', 'amounts', 'of', 'absinthe', 'and', 'opium', '.', 'upon', 'arriving', 'in', 'whitechapel', ',', 'he', 'befriends', 'an', 'unfortunate', 'named', 'mary', 'kelly', '(', 'heather', 'graham', ',', 'say', 'it', 'isn', \"'\", 't', 'so', ')', 'and', 'proceeds', 'to', 'investigate', 'the', 'horribly', 'gruesome', 'crimes', 'that', 'even', 'the', 'police', 'surgeon', 'can', \"'\", 't', 'stomach', '.', 'i', 'don', \"'\", 't', 'think', 'anyone', 'needs', 'to', 'be', 'briefed', 'on', 'jack', 'the', 'ripper', ',', 'so', 'i', 'won', \"'\", 't', 'go', 'into', 'the', 'particulars', 'here', ',', 'other', 'than', 'to', 'say', 'moore', 'and', 'campbell', 'have', 'a', 'unique', 'and', 'interesting', 'theory', 'about', 'both', 'the', 'identity', 'of', 'the', 'killer', 'and', 'the', 'reasons', 'he', 'chooses', 'to', 'slay', '.', 'in', 'the', 'comic', ',', 'they', 'don', \"'\", 't', 'bother', 'cloaking', 'the', 'identity', 'of', 'the', 'ripper', ',', 'but', 'screenwriters', 'terry', 'hayes', '(', 'vertical', 'limit', ')', 'and', 'rafael', 'yglesias', '(', 'les', 'mis', '?', 'rables', ')', 'do', 'a', 'good', 'job', 'of', 'keeping', 'him', 'hidden', 'from', 'viewers', 'until', 'the', 'very', 'end', '.', 'it', \"'\", 's', 'funny', 'to', 'watch', 'the', 'locals', 'blindly', 'point', 'the', 'finger', 'of', 'blame', 'at', 'jews', 'and', 'indians', 'because', ',', 'after', 'all', ',', 'an', 'englishman', 'could', 'never', 'be', 'capable', 'of', 'committing', 'such', 'ghastly', 'acts', '.', 'and', 'from', 'hell', \"'\", 's', 'ending', 'had', 'me', 'whistling', 'the', 'stonecutters', 'song', 'from', 'the', 'simpsons', 'for', 'days', '(', '\"', 'who', 'holds', 'back', 'the', 'electric', 'car', '/', 'who', 'made', 'steve', 'guttenberg', 'a', 'star', '?', '\"', ')', '.', 'don', \"'\", 't', 'worry', '-', 'it', \"'\", 'll', 'all', 'make', 'sense', 'when', 'you', 'see', 'it', '.', 'now', 'onto', 'from', 'hell', \"'\", 's', 'appearance', ':', 'it', \"'\", 's', 'certainly', 'dark', 'and', 'bleak', 'enough', ',', 'and', 'it', \"'\", 's', 'surprising', 'to', 'see', 'how', 'much', 'more', 'it', 'looks', 'like', 'a', 'tim', 'burton', 'film', 'than', 'planet', 'of', 'the', 'apes', 'did', '(', 'at', 'times', ',', 'it', 'seems', 'like', 'sleepy', 'hollow', '2', ')', '.', 'the', 'print', 'i', 'saw', 'wasn', \"'\", 't', 'completely', 'finished', '(', 'both', 'color', 'and', 'music', 'had', 'not', 'been', 'finalized', ',', 'so', 'no', 'comments', 'about', 'marilyn', 'manson', ')', ',', 'but', 'cinematographer', 'peter', 'deming', '(', 'don', \"'\", 't', 'say', 'a', 'word', ')', 'ably', 'captures', 'the', 'dreariness', 'of', 'victorian', '-', 'era', 'london', 'and', 'helped', 'make', 'the', 'flashy', 'killing', 'scenes', 'remind', 'me', 'of', 'the', 'crazy', 'flashbacks', 'in', 'twin', 'peaks', ',', 'even', 'though', 'the', 'violence', 'in', 'the', 'film', 'pales', 'in', 'comparison', 'to', 'that', 'in', 'the', 'black', '-', 'and', '-', 'white', 'comic', '.', 'oscar', 'winner', 'martin', 'childs', \"'\", '(', 'shakespeare', 'in', 'love', ')', 'production', 'design', 'turns', 'the', 'original', 'prague', 'surroundings', 'into', 'one', 'creepy', 'place', '.', 'even', 'the', 'acting', 'in', 'from', 'hell', 'is', 'solid', ',', 'with', 'the', 'dreamy', 'depp', 'turning', 'in', 'a', 'typically', 'strong', 'performance', 'and', 'deftly', 'handling', 'a', 'british', 'accent', '.', 'ians', 'holm', '(', 'joe', 'gould', \"'\", 's', 'secret', ')', 'and', 'richardson', '(', '102', 'dalmatians', ')', 'log', 'in', 'great', 'supporting', 'roles', ',', 'but', 'the', 'big', 'surprise', 'here', 'is', 'graham', '.', 'i', 'cringed', 'the', 'first', 'time', 'she', 'opened', 'her', 'mouth', ',', 'imagining', 'her', 'attempt', 'at', 'an', 'irish', 'accent', ',', 'but', 'it', 'actually', 'wasn', \"'\", 't', 'half', 'bad', '.', 'the', 'film', ',', 'however', ',', 'is', 'all', 'good', '.', '2', ':', '00', '-', 'r', 'for', 'strong', 'violence', '/', 'gore', ',', 'sexuality', ',', 'language', 'and', 'drug', 'content', '']\n"
          ]
        }
      ],
      "source": [
        "tok = tokenizer(temp_tweet)\n",
        "print(tok)"
      ]
    },
    {
      "cell_type": "code",
      "execution_count": null,
      "metadata": {
        "id": "ASyc4s88hns_"
      },
      "outputs": [],
      "source": [
        "punctuations = string.punctuation"
      ]
    },
    {
      "cell_type": "code",
      "execution_count": null,
      "metadata": {
        "id": "fQ1LYMUxh1Y2"
      },
      "outputs": [],
      "source": [
        "def remove_stopwords_punctuations(tweet_token):\n",
        "\n",
        "  cleaned_tweet = list()\n",
        "\n",
        "  for word in tweet_token:\n",
        "\n",
        "    if( word not in punctuations and word not in stopWords):\n",
        "      cleaned_tweet.append(word)\n",
        "\n",
        "  return cleaned_tweet"
      ]
    },
    {
      "cell_type": "code",
      "execution_count": null,
      "metadata": {
        "id": "7_5PEBtzh34Q"
      },
      "outputs": [],
      "source": [
        "#stemming the words i.e working to work\n",
        "stemmer = PorterStemmer()"
      ]
    },
    {
      "cell_type": "code",
      "execution_count": null,
      "metadata": {
        "id": "OECEwnlnh6Kn"
      },
      "outputs": [],
      "source": [
        "def tweet_stemmer(tweet):\n",
        "  stemmed_tweet = list()\n",
        "\n",
        "  for word in tweet:\n",
        "    stemm_word = stemmer.stem(word)\n",
        "    stemmed_tweet.append(stemm_word)\n",
        "\n",
        "  return stemmed_tweet"
      ]
    },
    {
      "cell_type": "code",
      "execution_count": null,
      "metadata": {
        "id": "i2WmaEn4h78R"
      },
      "outputs": [],
      "source": [
        "def preprocessing(tweet):\n",
        "\n",
        "  new_tweet = removeClutter(tweet)        #remove @, #, Retweets, hyperlinks\n",
        "\n",
        "  tweet_tokens = tokenizer(new_tweet)    #tokenize the tweet\n",
        "\n",
        "  tokenCount = 0\n",
        "  tokenCount = len(tweet_tokens)\n",
        "\n",
        "  tweet_processed = remove_stopwords_punctuations(tweet_tokens)     # remove stopwords, puntuations\n",
        "\n",
        "  tweet_processed = tweet_stemmer(tweet_processed)        # stemm the tokens\n",
        "\n",
        "  return tweet_processed, tokenCount"
      ]
    },
    {
      "cell_type": "code",
      "execution_count": null,
      "metadata": {
        "id": "UfmMUhhCh-aY"
      },
      "outputs": [],
      "source": [
        "processed_tweets=list()"
      ]
    },
    {
      "cell_type": "code",
      "execution_count": null,
      "metadata": {
        "id": "tTndH0ybpEiF"
      },
      "outputs": [],
      "source": [
        "tokenCountOfReviews = list()"
      ]
    },
    {
      "cell_type": "code",
      "execution_count": null,
      "metadata": {
        "id": "utyyaXB3iIzQ"
      },
      "outputs": [],
      "source": [
        "#processing the tweets\n",
        "\n",
        "for tweet in train_x:\n",
        "  twt,lenOfTweet = preprocessing(tweet)\n",
        "  processed_tweets.append(twt)\n",
        "  tokenCountOfReviews.append(lenOfTweet)"
      ]
    },
    {
      "cell_type": "code",
      "execution_count": null,
      "metadata": {
        "colab": {
          "base_uri": "https://localhost:8080/"
        },
        "id": "5E5y7BAviRO1",
        "outputId": "ff7096fb-35f0-4ce3-eb2a-0ae3c95bda8e"
      },
      "outputs": [
        {
          "data": {
            "text/plain": [
              "list"
            ]
          },
          "execution_count": 50,
          "metadata": {},
          "output_type": "execute_result"
        }
      ],
      "source": [
        "type(processed_tweets)"
      ]
    },
    {
      "cell_type": "code",
      "execution_count": null,
      "metadata": {
        "colab": {
          "base_uri": "https://localhost:8080/"
        },
        "id": "zjjEpjDiqQSH",
        "outputId": "113c0f01-5db8-4509-da0f-ac17180e152a"
      },
      "outputs": [
        {
          "data": {
            "text/plain": [
              "1600"
            ]
          },
          "execution_count": 51,
          "metadata": {},
          "output_type": "execute_result"
        }
      ],
      "source": [
        "len(tokenCountOfReviews)"
      ]
    },
    {
      "cell_type": "code",
      "execution_count": null,
      "metadata": {
        "colab": {
          "base_uri": "https://localhost:8080/"
        },
        "id": "QN1sLTKAqWbb",
        "outputId": "f33f237a-8bc0-446b-d578-9a1e442a3117"
      },
      "outputs": [
        {
          "name": "stdout",
          "output_type": "stream",
          "text": [
            "1268106\n"
          ]
        }
      ],
      "source": [
        "summ = 0\n",
        "for i in tokenCountOfReviews:\n",
        "  summ = summ + i\n",
        "\n",
        "print(summ)"
      ]
    },
    {
      "cell_type": "code",
      "execution_count": null,
      "metadata": {
        "id": "Egd1qDDKqWeJ"
      },
      "outputs": [],
      "source": [
        "def findStats(tokenCountOfReviews):\n",
        "\n",
        "  avgTweetLen = 0\n",
        "  avgTweetLen = summ/len(tokenCountOfReviews)\n",
        "\n",
        "  ind = 0\n",
        "  if(len(tokenCountOfReviews)%2 == 0):\n",
        "    ind = len(tokenCountOfReviews)/2\n",
        "  else:\n",
        "    ind = len((tokenCountOfReviews)/2) + 1\n",
        "\n",
        "  median = tokenCountOfReviews[int(ind)]\n",
        "\n",
        "\n",
        "  variance = 0\n",
        "  sqDiff = 0\n",
        "  for i in tokenCountOfReviews:\n",
        "    sqDiff = sqDiff + (i-avgTweetLen)**2\n",
        "\n",
        "  variance = sqDiff/len(tokenCountOfReviews)\n",
        "\n",
        "  stddev = math.sqrt(variance)\n",
        "\n",
        "  return avgTweetLen, median, variance, stddev"
      ]
    },
    {
      "cell_type": "code",
      "execution_count": null,
      "metadata": {
        "colab": {
          "base_uri": "https://localhost:8080/"
        },
        "id": "Fvr8KFEKqWgU",
        "outputId": "b0dd4bc4-c624-43fe-ae7e-187c9eb05142"
      },
      "outputs": [
        {
          "name": "stdout",
          "output_type": "stream",
          "text": [
            "792.56625\n",
            "880\n",
            "121967.87686093728\n",
            "349.23899676430364\n"
          ]
        }
      ],
      "source": [
        "mean, median, var, stddev = findStats(tokenCountOfReviews)\n",
        "\n",
        "print(mean)\n",
        "print(median)\n",
        "print(var)\n",
        "print(stddev)"
      ]
    },
    {
      "cell_type": "code",
      "execution_count": null,
      "metadata": {
        "id": "coBxUEm-qWjL"
      },
      "outputs": [],
      "source": []
    },
    {
      "cell_type": "code",
      "execution_count": null,
      "metadata": {
        "id": "yieLHUz3ixGI"
      },
      "outputs": [],
      "source": [
        "#making a dict\n",
        "\n",
        "def freqDict(processed_tweets, y):\n",
        "\n",
        "  FreqDict = dict()\n",
        "\n",
        "  for tweet,yc in zip(processed_tweets, y):\n",
        "\n",
        "    for word in tweet:\n",
        "      pair = (word,yc)                                  #this dict contains pairs of (word, class)->freq  ex (good, 1.0)->10, good could also occur in bad class but with less freq (good, 0.0)->1\n",
        "      if(pair not in FreqDict):\n",
        "        FreqDict[(pair)] = 1\n",
        "      else:\n",
        "        FreqDict[(pair)] += 1\n",
        "\n",
        "  return FreqDict"
      ]
    },
    {
      "cell_type": "code",
      "execution_count": null,
      "metadata": {
        "id": "S25eunCfizD9"
      },
      "outputs": [],
      "source": [
        "FreqDict = freqDict(processed_tweets, train_y)    #making the FreqDict"
      ]
    },
    {
      "cell_type": "code",
      "execution_count": null,
      "metadata": {
        "colab": {
          "base_uri": "https://localhost:8080/"
        },
        "id": "d7GiKGipi1RM",
        "outputId": "bb007eb5-4f02-429e-ae9d-2cea87c768a3"
      },
      "outputs": [
        {
          "data": {
            "text/plain": [
              "35420"
            ]
          },
          "execution_count": 57,
          "metadata": {},
          "output_type": "execute_result"
        }
      ],
      "source": [
        "len(FreqDict)"
      ]
    },
    {
      "cell_type": "code",
      "execution_count": null,
      "metadata": {
        "colab": {
          "base_uri": "https://localhost:8080/"
        },
        "id": "uSq8DLkPi9oU",
        "outputId": "ec98cdc1-265e-4257-e80d-d23d0017d974"
      },
      "outputs": [
        {
          "name": "stdout",
          "output_type": "stream",
          "text": [
            "('film', 1.0) 4921\n",
            "('adapt', 1.0) 69\n",
            "('comic', 1.0) 227\n",
            "('book', 1.0) 192\n",
            "('plenti', 1.0) 68\n",
            "('success', 1.0) 219\n"
          ]
        }
      ],
      "source": [
        "ctr = 0\n",
        "for key,value in FreqDict.items():           #printing some values of FreqDict\n",
        "  if(ctr <= 5):\n",
        "    print(key,value)\n",
        "  else: break\n",
        "  ctr += 1"
      ]
    },
    {
      "cell_type": "code",
      "execution_count": null,
      "metadata": {
        "id": "Md_Tr1hBjAdJ"
      },
      "outputs": [],
      "source": [
        "def calculate_probs(FreqDict, train_x, train_y):\n",
        "\n",
        "  logpriorProb = 0\n",
        "  loglikelihood = dict()     # storing the words with there likelihoods in respective classes\n",
        "\n",
        "  unique_words = set([pair[0] for pair in FreqDict.keys()])\n",
        "  len_unique_words = len(unique_words)\n",
        "\n",
        "  n_pos = 0   #no of words in positive class\n",
        "  n_neg = 0   #no of words in negative class\n",
        "\n",
        "  indexChromo = 0\n",
        "\n",
        "  for pair in FreqDict.keys():          # for each pair in FreqDict inc n_pos if word belongs to pos class or inc n_neg if word belongs to neg class\n",
        "\n",
        "    if(pair[1] > 0):                             # if(pair[1] > 0 and chromo[i] != 0): n_pos = freqdict[(pair)]\n",
        "      n_pos += FreqDict[(pair)]\n",
        "    else:\n",
        "      n_neg += FreqDict[(pair)]\n",
        "\n",
        "    indexChromo += 1\n",
        "\n",
        "  n_tweets = len(train_y)\n",
        "\n",
        "  d_pos = len(all_positive_reviews)\n",
        "  d_neg = len(all_negative_reviews)\n",
        "\n",
        "  logpriorProb = np.log(  (d_pos / d_neg) )         # if greater than zero then more prior prob of being in positive class and vice versa\n",
        "\n",
        "  for word in unique_words:\n",
        "\n",
        "    no_appear_in_pos = FreqDict.get((word,1), 0)    #return zero if not present\n",
        "    no_appear_in_neg = FreqDict.get((word,0), 0)\n",
        "\n",
        "\n",
        "    prob_word_being_in_pos = (no_appear_in_pos+1 / (n_pos + len_unique_words))    # plus 1 is smoothening factor to prevent getting division by zero error while calculating loglikelihood\n",
        "    prob_word_being_in_neg = (no_appear_in_neg+1 / (n_neg + len_unique_words))    # it could so happen that some count of some word might be zero for some class\n",
        "                                                                                  # the denominator is also increased to compensate the smoothening factor\n",
        "\n",
        "    loglikelihood[word] = np.log(prob_word_being_in_pos/prob_word_being_in_neg)      # confidence of a word for being in either class, if greater than zero then in pos and vice versa\n",
        "\n",
        "  return logpriorProb, loglikelihood          #loglikelihood contains the loglikelihood of each unique word existing in the dictionary\n",
        ""
      ]
    },
    {
      "cell_type": "code",
      "execution_count": null,
      "metadata": {
        "id": "d5yswXXXjEfm"
      },
      "outputs": [],
      "source": [
        "logprior, loglikelihood = calculate_probs(FreqDict, train_x, train_y)"
      ]
    },
    {
      "cell_type": "code",
      "execution_count": null,
      "metadata": {
        "colab": {
          "base_uri": "https://localhost:8080/"
        },
        "id": "skmnts7JjGbR",
        "outputId": "51af70c1-f919-4b9d-f907-a10dceddfe78"
      },
      "outputs": [
        {
          "name": "stdout",
          "output_type": "stream",
          "text": [
            "0.0\n"
          ]
        }
      ],
      "source": [
        "print(logprior)   # zero becoz we have the same number of pos and neg tweets"
      ]
    },
    {
      "cell_type": "code",
      "execution_count": null,
      "metadata": {
        "colab": {
          "base_uri": "https://localhost:8080/"
        },
        "id": "2ZfiHqQxjRfa",
        "outputId": "1fac3c40-c3ba-4da5-f15f-38bd4ba2f70c"
      },
      "outputs": [
        {
          "name": "stdout",
          "output_type": "stream",
          "text": [
            "23728\n",
            "<class 'dict'>\n"
          ]
        }
      ],
      "source": [
        "print(len(loglikelihood))   # mapping of all unique words and there confidence of being in either class based upon there occurences in respective classes\n",
        "print(type(loglikelihood))"
      ]
    },
    {
      "cell_type": "code",
      "execution_count": null,
      "metadata": {
        "colab": {
          "base_uri": "https://localhost:8080/"
        },
        "id": "C7v2MYUcjUFG",
        "outputId": "d667a6b9-d944-49f6-d129-409938f47b17"
      },
      "outputs": [
        {
          "name": "stdout",
          "output_type": "stream",
          "text": [
            "THESE ARE SOME OF THE FEATURES....\n",
            "\n",
            "genom\n",
            "ngo\n",
            "recov\n",
            "crackin\n",
            "conson\n",
            "nephew\n",
            "robin\n",
            "allerg\n",
            "_elect\n",
            "detriment\n"
          ]
        }
      ],
      "source": [
        "p = 10\n",
        "print(\"THESE ARE SOME OF THE FEATURES....\\n\")\n",
        "for key, value in loglikelihood.items():\n",
        "  if( p >= 1 ):\n",
        "    print(key)\n",
        "  p-=1"
      ]
    },
    {
      "cell_type": "code",
      "execution_count": null,
      "metadata": {
        "id": "YWTZxiPujWlS"
      },
      "outputs": [],
      "source": [
        "def predict(tweet, logprior, loglikelihood):         # testing function for sentiment analysis without feature selection\n",
        "\n",
        "  processed_input, t = preprocessing(tweet)  # process the input tweet first\n",
        "  p = 0\n",
        "  p = p+logprior                 # add logprior\n",
        "\n",
        "  for word in processed_input:            #calculate loglikelihood of each token from the loglikelihood dictionary and add into final value\n",
        "\n",
        "    if( word not in loglikelihood):\n",
        "      p+=0\n",
        "    else:\n",
        "      p+= loglikelihood[word]         # we are adding everything instead of multiplying becoz it is log( prior * likelihood)\n",
        "\n",
        "  return p"
      ]
    },
    {
      "cell_type": "code",
      "execution_count": null,
      "metadata": {
        "id": "AW11UaSXjbj4"
      },
      "outputs": [],
      "source": [
        "def predictForChromosome(tweet, logprior, loglikelihood, chromosome):       # testing function for sentiment analysis with feature selection\n",
        "\n",
        "  # create a datastructure that combines loglikelihood and a chromosome\n",
        "\n",
        "  combinedDS = dict()\n",
        "  newPairs = []\n",
        "\n",
        "  ind = 0\n",
        "  for key in loglikelihood.keys():\n",
        "    p = (key,chromosome[ind])\n",
        "    newPairs.append(p)\n",
        "    ind += 1\n",
        "\n",
        "  combinedDS = dict(zip(newPairs, list(loglikelihood.values())))      #{ (word1,1):21 , (word2,0): -10, (word3,0): 5, (word4,1): -12, .....}\n",
        "\n",
        "\n",
        "  processed_input,t = preprocessing(tweet)  # process the input tweet first\n",
        "  p = 0\n",
        "  p = p+logprior                 # add logprior\n",
        "\n",
        "  for word in processed_input:            #calculate loglikelihood of each token from the loglikelihood dictionary and add into final value\n",
        "    pr = (word,1)\n",
        "\n",
        "    if( pr not in combinedDS):        # if the word happens to be in loglikelihood and allowed feature set denoted by chromosome then add its p value\n",
        "      p+=0\n",
        "    else:\n",
        "      p+= combinedDS[pr]         # we are adding everything instead of multiplying becoz it is log( prior * likelihood)\n",
        "\n",
        "  return p"
      ]
    },
    {
      "cell_type": "code",
      "execution_count": null,
      "metadata": {
        "id": "jWSFg7ABjeDr"
      },
      "outputs": [],
      "source": [
        "def showPolarity(prediction):                 # used to show the polarity {positive, negative or neutral}\n",
        "\n",
        "  if(prediction<=1.0 and prediction >= -0.80):\n",
        "    polarity = \"Neutral\"\n",
        "\n",
        "  elif(prediction> 1.0):\n",
        "    polarity = \"Positive\"\n",
        "\n",
        "  elif(prediction < -0.80):\n",
        "    polarity = \"Negative\"\n",
        "  return polarity"
      ]
    },
    {
      "cell_type": "code",
      "execution_count": null,
      "metadata": {
        "id": "apyICRFJjgux"
      },
      "outputs": [],
      "source": [
        "def testing(test_x, test_y, logprior, loglikelihood):       # testing function for sentiment analysis without feature selection\n",
        "\n",
        "  correct = 0\n",
        "  incorrect = 0\n",
        "  i=0\n",
        "  for tweet in test_x:\n",
        "    pred = predict(tweet, logprior, loglikelihood)\n",
        "    if(pred < 0):\n",
        "      pred = 0.0\n",
        "    else:\n",
        "      pred = 1.0\n",
        "\n",
        "    if(pred == test_y[i]):\n",
        "      correct += 1\n",
        "    else:\n",
        "      incorrect += 1\n",
        "\n",
        "    i = i+1\n",
        "\n",
        "  return (correct/float(len(test_x)))*100"
      ]
    },
    {
      "cell_type": "code",
      "execution_count": null,
      "metadata": {
        "id": "Tm60pF5sjiRx"
      },
      "outputs": [],
      "source": [
        "def testingForChromosome(test_x, test_y, logprior, loglikelihood, chromosome):      # testing function for sentiment analysis with feature selection\n",
        "\n",
        "  correct = 0\n",
        "  incorrect = 0\n",
        "  i=0\n",
        "  for tweet in test_x:\n",
        "    pred = predictForChromosome(tweet, logprior, loglikelihood, chromosome)\n",
        "    if(pred < 0):\n",
        "      pred = 0.0\n",
        "    else:\n",
        "      pred = 1.0\n",
        "\n",
        "    if(pred == test_y[i]):\n",
        "      correct += 1\n",
        "    else:\n",
        "      incorrect += 1\n",
        "\n",
        "    i = i+1\n",
        "\n",
        "  return (correct/float(len(test_x)))*100"
      ]
    },
    {
      "cell_type": "code",
      "execution_count": null,
      "metadata": {
        "id": "60nSVD1-lHn1"
      },
      "outputs": [],
      "source": [
        "acc = testing(test_x, test_y, logprior, loglikelihood)"
      ]
    },
    {
      "cell_type": "code",
      "execution_count": null,
      "metadata": {
        "colab": {
          "base_uri": "https://localhost:8080/"
        },
        "id": "Kla_Xp-OlJfL",
        "outputId": "e57db8dc-8bff-419e-8c08-650b744b3490"
      },
      "outputs": [
        {
          "name": "stdout",
          "output_type": "stream",
          "text": [
            "accuracy is  69.25\n"
          ]
        }
      ],
      "source": [
        "print(\"accuracy is \", acc)"
      ]
    },
    {
      "cell_type": "code",
      "execution_count": null,
      "metadata": {
        "id": "DWROK6EVlbn8"
      },
      "outputs": [],
      "source": [
        "def makeChromosome(loglikelihood):                #chromosome looks like [0,1,0,1,1,1,0,0,1,1,0,0,1,0,0,0,0,0,1,1,0.........upto vocab size]\n",
        "  chromosome = []\n",
        "\n",
        "  for word in loglikelihood:\n",
        "    n = random.randint(0,1)\n",
        "    chromosome.append(n)\n",
        "\n",
        "  return chromosome"
      ]
    },
    {
      "cell_type": "code",
      "execution_count": null,
      "metadata": {
        "id": "ww12akZ7mrQx"
      },
      "outputs": [],
      "source": [
        "def makePopulation(size, loglikelihood):          #collections of chromosomes\n",
        "\n",
        "  pop = []\n",
        "  for i in range(size):\n",
        "    chromo = makeChromosome(loglikelihood)\n",
        "    pop.append(chromo)\n",
        "\n",
        "  return pop"
      ]
    },
    {
      "cell_type": "code",
      "execution_count": null,
      "metadata": {
        "id": "m4pQrtX-mtat"
      },
      "outputs": [],
      "source": [
        "def findScore(text_x, test_y, logprior, loglikelihood, chromosome):\n",
        "\n",
        "  score = 0.0\n",
        "\n",
        "  score += testingForChromosome(test_x, test_y, logprior, loglikelihood, chromosome)    # applying NB classifier and testing the accuracy( also happens to be the score) obtained for each chromosome\n",
        "  return score"
      ]
    },
    {
      "cell_type": "code",
      "execution_count": null,
      "metadata": {
        "id": "c-E8Iaflmv-N"
      },
      "outputs": [],
      "source": [
        "def evaluatePop(text_x, test_y, logprior, loglikelihood, pop):         #dict{  56: [chromo1, chromo2,..], 78:[chromo1, chromo2, ...]}   i.e { acc1: [c1,c2,c3..], acc2: [c1,c2,c3,,,]}\n",
        "\n",
        "  scores = dict()\n",
        "  chromoNumber = 0\n",
        "  for chromo in pop:\n",
        "    print(\"chromoNumber is \", chromoNumber+1)\n",
        "    score = findScore(text_x, test_y, logprior, loglikelihood, chromo)\n",
        "\n",
        "    if(score not in scores):\n",
        "      scores[score] = []\n",
        "      scores[score].append(chromo)\n",
        "    else:\n",
        "      scores[score].append(chromo)\n",
        "\n",
        "    chromoNumber += 1\n",
        "\n",
        "  return scores"
      ]
    },
    {
      "cell_type": "code",
      "execution_count": null,
      "metadata": {
        "id": "sLfv1jWrmzD_"
      },
      "outputs": [],
      "source": [
        "def normalizeScores(scores):         # to make the total scores of chromosomes to add up to 1\n",
        "                                    # this will help us  when selectiing parents for mating\n",
        "  sum =0.0\n",
        "  for key in scores.keys():\n",
        "    sum += key\n",
        "\n",
        "  newkeys = []      # stores the new keys\n",
        "\n",
        "  for key in scores.keys():\n",
        "    key = key/float(sum)\n",
        "    newkeys.append(key)\n",
        "\n",
        "  scores = dict(zip(newkeys, list(scores.values())))\n",
        "\n",
        "  return scores"
      ]
    },
    {
      "cell_type": "code",
      "execution_count": null,
      "metadata": {
        "id": "g1JQF_8Km5Xv"
      },
      "outputs": [],
      "source": [
        "def crossover(parent1, parent2):              # for each bit there is a 50-50% chance of selecting from parent1 or parent 2\n",
        "\n",
        "  lenOfChild = len(parent1)\n",
        "\n",
        "  child = []\n",
        "\n",
        "  for i in range(lenOfChild):\n",
        "\n",
        "    randomNum = random.randint(0,1)\n",
        "    if(randomNum == 0):\n",
        "      child.append(parent1[i])\n",
        "    else:\n",
        "      child.append(parent2[i])\n",
        "\n",
        "  return child"
      ]
    },
    {
      "cell_type": "code",
      "execution_count": null,
      "metadata": {
        "id": "mOUYOe86m_L8"
      },
      "outputs": [],
      "source": [
        "def mutate(child, mutationRate):\n",
        "\n",
        "  for i in range(len(child)):\n",
        "    randNum = random.random()            # pick a random number\n",
        "    if(randNum <= mutationRate):\n",
        "      child[i] = 1^child[i]               # EXORing operation to flip the bit if random number is less than the mutation rate\n",
        "\n",
        "  return child"
      ]
    },
    {
      "cell_type": "code",
      "execution_count": null,
      "metadata": {
        "id": "ZeOqz-lqnCaS"
      },
      "outputs": [],
      "source": [
        "def spinRouletteWheel(scores):\n",
        "\n",
        "  wheel = []            # a list of pair of pairs , like so pair( pair(range), key)\n",
        "\n",
        "  prevkey = 0.0\n",
        "\n",
        "  start = True\n",
        "\n",
        "  for key in scores.keys():\n",
        "    add = prevkey + key\n",
        "    p1 = (prevkey,add)\n",
        "    p2 = (p1,key)\n",
        "    wheel.append(p2)\n",
        "    prevkey = add\n",
        "\n",
        "  n = random.random()    # float value between 0 and 1\n",
        "  key = 0.0\n",
        "  for p in wheel:\n",
        "    if(n<p[0][1] and n>=p[0][0]):\n",
        "      key = p[1]\n",
        "      break\n",
        "\n",
        "  return key,n\n"
      ]
    },
    {
      "cell_type": "code",
      "execution_count": null,
      "metadata": {
        "id": "6xx7tDPdnFRj"
      },
      "outputs": [],
      "source": [
        "def selection(scores, pop, mutationRate):                                 # return the nxt population after selecting the same ammount of individuals as prev population\n",
        "\n",
        "  sizeofprevPop = len(pop)\n",
        "  scores = OrderedDict(sorted(scores.items()))          # sorts the dictionary based on the key i.e fitness of chromosome i.e the acc of the chromosome on NB\n",
        "  nxt_pop = []\n",
        "\n",
        " # all_chromosomes = []                        # list that stores all the chromosomes from prev pop in a sorted manner\n",
        " # for key,value in scores.items():\n",
        "  #  for ch in value:\n",
        "   #   all_chromosomes.append(ch)\n",
        "\n",
        "  normalizedScores = normalizeScores(scores)       # normalizes the scores dictionary\n",
        "\n",
        "  # creating the nxt population\n",
        "\n",
        "  for t in range(sizeofprevPop):\n",
        "    numOfParents = 2\n",
        "    parents = []\n",
        "    for i in range(numOfParents):                         #picking 2 number of parents everytime\n",
        "      k,randnum = spinRouletteWheel(normalizedScores)\n",
        "\n",
        "      numOfChromosomes = len(normalizedScores[k])\n",
        "\n",
        "      if(numOfChromosomes == 1):                         #only one chromosome for the key k\n",
        "        parents.append(normalizedScores[k][0])\n",
        "\n",
        "      else:\n",
        "        rand = random.randint(0, numOfChromosomes-1)     # list of chromosomes for the key k\n",
        "        parents.append(normalizedScores[k][rand])\n",
        "\n",
        "\n",
        "    child = crossover(parents[0], parents[1])                # crossingover\n",
        "    child = mutate(child,mutationRate)                      # mutating the child\n",
        "    nxt_pop.append(child)                                   # putting the child in nxt_pop\n",
        "\n",
        "  return nxt_pop\n"
      ]
    },
    {
      "cell_type": "code",
      "execution_count": null,
      "metadata": {
        "id": "n6CWCfdVnJt_"
      },
      "outputs": [],
      "source": [
        "def featureSelection(text_x, test_y, logprior, popSize, mutationRate, generations, loglikelihood):\n",
        "\n",
        "  prevPopulation = makePopulation(popSize, loglikelihood)         # a list of chromosomes each of len feature set size i.e loglikelihood size\n",
        "\n",
        "  for i in range(generations):\n",
        "    print(\"generation number \", i+1)\n",
        "\n",
        "    scores = evaluatePop(text_x, test_y, logprior, loglikelihood, prevPopulation)                           # gives a dictionary with scores and corresponding chromosomes\n",
        "    nextPopulation = selection(scores, prevPopulation,mutationRate)   # create new pop based on the scores\n",
        "    prevPopulation = nextPopulation                                   # make prevpop as nxt pop and repeat the whole process\n",
        "\n",
        "  print(\"calculating accuracies for final population\")\n",
        "  finalScores = evaluatePop(text_x, test_y, logprior, loglikelihood, nextPopulation)\n",
        "\n",
        "  sortedFinalScores = OrderedDict(sorted(finalScores.items(), reverse=True))\n",
        "\n",
        "  finalChromosome = []\n",
        "\n",
        "  #sortedFinalScores = sorted(finalScores, reverse=True)\n",
        "\n",
        "  j = 1\n",
        "  for key, value in sortedFinalScores.items():\n",
        "    if(j>=1):\n",
        "      finalChromosome = value[0]\n",
        "    j-=1\n",
        "\n",
        "  return finalChromosome                                     # returns a binary list of 1's and 0's denoting which features to select and which ones to reject"
      ]
    },
    {
      "cell_type": "code",
      "execution_count": null,
      "metadata": {
        "id": "HAM2iYOLnLqn"
      },
      "outputs": [],
      "source": [
        "def accAfterFeatureSelection(text_x, test_y, logprior, popSize, mutationRate, generations, loglikelihood):\n",
        "\n",
        "  finalChromo = featureSelection(text_x, test_y, logprior, popSize, mutationRate, generations, loglikelihood)\n",
        "\n",
        "  accForchromo = testingForChromosome(test_x, test_y, logprior, loglikelihood, finalChromo)\n",
        "  return accForchromo, finalChromo"
      ]
    },
    {
      "cell_type": "code",
      "execution_count": null,
      "metadata": {
        "id": "wg5ffUttnOAL"
      },
      "outputs": [],
      "source": [
        "popsize = 10\n",
        "mutRate = 0.03\n",
        "generations = 15"
      ]
    },
    {
      "cell_type": "code",
      "execution_count": null,
      "metadata": {
        "colab": {
          "background_save": true,
          "base_uri": "https://localhost:8080/"
        },
        "id": "wecgc7XpnRMk",
        "outputId": "b009cd99-65a6-4432-b88e-780bcf9aba7c"
      },
      "outputs": [
        {
          "name": "stdout",
          "output_type": "stream",
          "text": [
            "generation number  1\n",
            "chromoNumber is  1\n",
            "chromoNumber is  2\n",
            "chromoNumber is  3\n",
            "chromoNumber is  4\n",
            "chromoNumber is  5\n",
            "chromoNumber is  6\n",
            "chromoNumber is  7\n",
            "chromoNumber is  8\n",
            "chromoNumber is  9\n",
            "chromoNumber is  10\n",
            "generation number  2\n",
            "chromoNumber is  1\n",
            "chromoNumber is  2\n",
            "chromoNumber is  3\n",
            "chromoNumber is  4\n",
            "chromoNumber is  5\n",
            "chromoNumber is  6\n",
            "chromoNumber is  7\n",
            "chromoNumber is  8\n",
            "chromoNumber is  9\n",
            "chromoNumber is  10\n",
            "generation number  3\n",
            "chromoNumber is  1\n",
            "chromoNumber is  2\n",
            "chromoNumber is  3\n",
            "chromoNumber is  4\n",
            "chromoNumber is  5\n",
            "chromoNumber is  6\n",
            "chromoNumber is  7\n",
            "chromoNumber is  8\n",
            "chromoNumber is  9\n",
            "chromoNumber is  10\n",
            "generation number  4\n",
            "chromoNumber is  1\n",
            "chromoNumber is  2\n",
            "chromoNumber is  3\n",
            "chromoNumber is  4\n",
            "chromoNumber is  5\n",
            "chromoNumber is  6\n",
            "chromoNumber is  7\n",
            "chromoNumber is  8\n",
            "chromoNumber is  9\n",
            "chromoNumber is  10\n",
            "generation number  5\n",
            "chromoNumber is  1\n",
            "chromoNumber is  2\n",
            "chromoNumber is  3\n",
            "chromoNumber is  4\n",
            "chromoNumber is  5\n",
            "chromoNumber is  6\n",
            "chromoNumber is  7\n",
            "chromoNumber is  8\n",
            "chromoNumber is  9\n",
            "chromoNumber is  10\n",
            "generation number  6\n",
            "chromoNumber is  1\n",
            "chromoNumber is  2\n",
            "chromoNumber is  3\n",
            "chromoNumber is  4\n",
            "chromoNumber is  5\n",
            "chromoNumber is  6\n",
            "chromoNumber is  7\n",
            "chromoNumber is  8\n",
            "chromoNumber is  9\n",
            "chromoNumber is  10\n",
            "generation number  7\n",
            "chromoNumber is  1\n",
            "chromoNumber is  2\n",
            "chromoNumber is  3\n",
            "chromoNumber is  4\n",
            "chromoNumber is  5\n",
            "chromoNumber is  6\n",
            "chromoNumber is  7\n",
            "chromoNumber is  8\n",
            "chromoNumber is  9\n",
            "chromoNumber is  10\n",
            "generation number  8\n",
            "chromoNumber is  1\n",
            "chromoNumber is  2\n",
            "chromoNumber is  3\n",
            "chromoNumber is  4\n",
            "chromoNumber is  5\n",
            "chromoNumber is  6\n",
            "chromoNumber is  7\n",
            "chromoNumber is  8\n",
            "chromoNumber is  9\n",
            "chromoNumber is  10\n",
            "generation number  9\n",
            "chromoNumber is  1\n",
            "chromoNumber is  2\n",
            "chromoNumber is  3\n",
            "chromoNumber is  4\n",
            "chromoNumber is  5\n",
            "chromoNumber is  6\n",
            "chromoNumber is  7\n",
            "chromoNumber is  8\n",
            "chromoNumber is  9\n",
            "chromoNumber is  10\n",
            "generation number  10\n",
            "chromoNumber is  1\n",
            "chromoNumber is  2\n",
            "chromoNumber is  3\n",
            "chromoNumber is  4\n",
            "chromoNumber is  5\n",
            "chromoNumber is  6\n",
            "chromoNumber is  7\n",
            "chromoNumber is  8\n",
            "chromoNumber is  9\n",
            "chromoNumber is  10\n",
            "generation number  11\n",
            "chromoNumber is  1\n",
            "chromoNumber is  2\n",
            "chromoNumber is  3\n",
            "chromoNumber is  4\n",
            "chromoNumber is  5\n",
            "chromoNumber is  6\n",
            "chromoNumber is  7\n",
            "chromoNumber is  8\n",
            "chromoNumber is  9\n",
            "chromoNumber is  10\n",
            "generation number  12\n",
            "chromoNumber is  1\n",
            "chromoNumber is  2\n",
            "chromoNumber is  3\n",
            "chromoNumber is  4\n",
            "chromoNumber is  5\n",
            "chromoNumber is  6\n",
            "chromoNumber is  7\n",
            "chromoNumber is  8\n",
            "chromoNumber is  9\n",
            "chromoNumber is  10\n",
            "generation number  13\n",
            "chromoNumber is  1\n",
            "chromoNumber is  2\n",
            "chromoNumber is  3\n",
            "chromoNumber is  4\n",
            "chromoNumber is  5\n",
            "chromoNumber is  6\n",
            "chromoNumber is  7\n",
            "chromoNumber is  8\n",
            "chromoNumber is  9\n",
            "chromoNumber is  10\n",
            "generation number  14\n",
            "chromoNumber is  1\n",
            "chromoNumber is  2\n",
            "chromoNumber is  3\n",
            "chromoNumber is  4\n",
            "chromoNumber is  5\n",
            "chromoNumber is  6\n",
            "chromoNumber is  7\n",
            "chromoNumber is  8\n",
            "chromoNumber is  9\n",
            "chromoNumber is  10\n",
            "generation number  15\n",
            "chromoNumber is  1\n",
            "chromoNumber is  2\n",
            "chromoNumber is  3\n",
            "chromoNumber is  4\n",
            "chromoNumber is  5\n",
            "chromoNumber is  6\n",
            "chromoNumber is  7\n",
            "chromoNumber is  8\n",
            "chromoNumber is  9\n",
            "chromoNumber is  10\n",
            "calculating accuracies for final population\n",
            "chromoNumber is  1\n",
            "chromoNumber is  2\n",
            "chromoNumber is  3\n",
            "chromoNumber is  4\n",
            "chromoNumber is  5\n",
            "chromoNumber is  6\n",
            "chromoNumber is  7\n",
            "chromoNumber is  8\n",
            "chromoNumber is  9\n",
            "chromoNumber is  10\n"
          ]
        }
      ],
      "source": [
        "res, finalChromosome = accAfterFeatureSelection(test_x, test_y, logprior, popsize,mutRate, generations,loglikelihood)"
      ]
    },
    {
      "cell_type": "code",
      "execution_count": null,
      "metadata": {
        "colab": {
          "background_save": true
        },
        "id": "8_3_DOHAndcb"
      },
      "outputs": [],
      "source": [
        "count = 0\n",
        "for i in finalChromosome:\n",
        "  if(i == 1):\n",
        "    count+=1"
      ]
    },
    {
      "cell_type": "code",
      "execution_count": null,
      "metadata": {
        "colab": {
          "background_save": true
        },
        "id": "1SMkKs11sqBG",
        "outputId": "78e532c1-e95a-46c1-f033-65602418707c"
      },
      "outputs": [
        {
          "name": "stdout",
          "output_type": "stream",
          "text": [
            "total features selected are  11742 out of  23728\n",
            "accuracy after feature selection is  68.0\n"
          ]
        }
      ],
      "source": [
        "print(\"total features selected are \", count, \"out of \", len(loglikelihood))\n",
        "print(\"accuracy after feature selection is \", res)"
      ]
    },
    {
      "cell_type": "code",
      "execution_count": null,
      "metadata": {
        "id": "xovAle8Ws1NJ"
      },
      "outputs": [],
      "source": [
        "sad"
      ]
    },
    {
      "cell_type": "code",
      "execution_count": null,
      "metadata": {
        "id": "Utd_mZ8ZeD4M"
      },
      "outputs": [],
      "source": []
    }
  ],
  "metadata": {
    "colab": {
      "provenance": []
    },
    "kernelspec": {
      "display_name": "Python 3",
      "name": "python3"
    },
    "language_info": {
      "name": "python"
    }
  },
  "nbformat": 4,
  "nbformat_minor": 0
}